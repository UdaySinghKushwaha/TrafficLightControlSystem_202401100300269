{
  "nbformat": 4,
  "nbformat_minor": 0,
  "metadata": {
    "colab": {
      "provenance": []
    },
    "kernelspec": {
      "name": "python3",
      "display_name": "Python 3"
    },
    "language_info": {
      "name": "python"
    }
  },
  "cells": [
    {
      "cell_type": "code",
      "execution_count": 3,
      "metadata": {
        "id": "5VSnzSB8hAB6"
      },
      "outputs": [],
      "source": [
        "# Traffic Light Control System in Python\n",
        "\n",
        "import time\n",
        "\n",
        "# Define the colors for the traffic light\n",
        "RED = 'RED'\n",
        "YELLOW = 'YELLOW'\n",
        "GREEN = 'GREEN'\n",
        "\n",
        "# Define the duration for each light (in seconds)\n",
        "RED_DURATION = 10\n",
        "YELLOW_DURATION = 3\n",
        "GREEN_DURATION = 7\n",
        "\n",
        "class TrafficLight:\n",
        "    def __init__(self):\n",
        "        # Initialize the traffic light with the default state (RED)\n",
        "        self.current_state = RED\n",
        "\n",
        "    def change_state(self, new_state):\n",
        "        # Change the current state of the traffic light\n",
        "        self.current_state = new_state\n",
        "        print(f\"Traffic light changed to {self.current_state}\")\n",
        "\n",
        "    def run(self):\n",
        "        # Main loop to control the traffic light\n",
        "        while True:\n",
        "            if self.current_state == RED:\n",
        "                # If the current state is RED, wait for the RED_DURATION\n",
        "                print(f\"Waiting at {self.current_state} light for {RED_DURATION} seconds.\")\n",
        "                time.sleep(RED_DURATION)\n",
        "                # Change to GREEN after RED_DURATION\n",
        "                self.change_state(GREEN)\n",
        "\n",
        "\n",
        "            elif self.current_state == YELLOW:\n",
        "                # If the current state is YELLOW, wait for the YELLOW_DURATION\n",
        "                print(f\"Waiting at {self.current_state} light for {YELLOW_DURATION} seconds.\")\n",
        "                time.sleep(YELLOW_DURATION)\n",
        "                # Change to RED after YELLOW_DURATION\n",
        "                self.change_state(RED)\n",
        "\n",
        "            elif self.current_state == GREEN:\n",
        "                # If the current state is GREEN, wait for the GREEN_DURATION\n",
        "                print(f\"Waiting at {self.current_state} light for {GREEN_DURATION} seconds.\")\n",
        "                time.sleep(GREEN_DURATION)\n",
        "                # Change to YELLOW after GREEN_DURATION\n",
        "                self.change_state(YELLOW)\n",
        "# Main function to run the traffic light control system\n",
        "if __name__ == \"__main__\":\n",
        "    # Create an instance of the TrafficLight class\n",
        "    traffic_light = TrafficLight()\n",
        "\n",
        "    # Start the traffic light control system\n",
        "    print(\"Starting Traffic Light Control System: \")\n",
        "    traffic_light.run()"
      ]
    }
  ]
}